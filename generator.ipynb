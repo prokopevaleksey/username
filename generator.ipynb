{
 "cells": [
  {
   "cell_type": "code",
   "execution_count": 1,
   "metadata": {
    "collapsed": true
   },
   "outputs": [],
   "source": [
    "import matplotlib.pyplot as plt\n",
    "import numpy as np"
   ]
  },
  {
   "cell_type": "code",
   "execution_count": 2,
   "metadata": {
    "collapsed": true
   },
   "outputs": [],
   "source": [
    "%matplotlib inline"
   ]
  },
  {
   "cell_type": "code",
   "execution_count": 3,
   "metadata": {
    "collapsed": true
   },
   "outputs": [],
   "source": [
    "with open('authors.txt','r') as f:\n",
    "    data = ['>'+line.strip()+'<' for line in f.readlines()]"
   ]
  },
  {
   "cell_type": "code",
   "execution_count": 4,
   "metadata": {},
   "outputs": [
    {
     "data": {
      "text/plain": [
       "(array([  1.00000000e+00,   0.00000000e+00,   1.14000000e+02,\n",
       "          7.77000000e+02,   1.99800000e+03,   4.40300000e+03,\n",
       "          6.01800000e+03,   7.29100000e+03,   7.59000000e+03,\n",
       "          7.69000000e+03,   7.09400000e+03,   6.67000000e+03,\n",
       "          5.62600000e+03,   4.80400000e+03,   4.09400000e+03,\n",
       "          2.88500000e+03,   2.27300000e+03,   1.85400000e+03,\n",
       "          1.60500000e+03,   1.58900000e+03]),\n",
       " array([  3.  ,   3.95,   4.9 ,   5.85,   6.8 ,   7.75,   8.7 ,   9.65,\n",
       "         10.6 ,  11.55,  12.5 ,  13.45,  14.4 ,  15.35,  16.3 ,  17.25,\n",
       "         18.2 ,  19.15,  20.1 ,  21.05,  22.  ]),\n",
       " <a list of 20 Patch objects>)"
      ]
     },
     "execution_count": 4,
     "metadata": {},
     "output_type": "execute_result"
    },
    {
     "data": {
      "image/png": "[encoded data removed]",
      "text/plain": [
       "<matplotlib.figure.Figure at 0x7f400b3fdfd0>"
      ]
     },
     "metadata": {},
     "output_type": "display_data"
    }
   ],
   "source": [
    "plt.hist([len(x) for x in data],bins = 20)"
   ]
  },
  {
   "cell_type": "code",
   "execution_count": 5,
   "metadata": {},
   "outputs": [],
   "source": [
    "alphabet = list(set(\"\".join(data)))"
   ]
  },
  {
   "cell_type": "code",
   "execution_count": 6,
   "metadata": {},
   "outputs": [
    {
     "data": {
      "text/plain": [
       "68"
      ]
     },
     "execution_count": 6,
     "metadata": {},
     "output_type": "execute_result"
    }
   ],
   "source": [
    "len(alphabet)"
   ]
  },
  {
   "cell_type": "code",
   "execution_count": 7,
   "metadata": {},
   "outputs": [
    {
     "data": {
      "text/plain": [
       "'>silvery_silver<'"
      ]
     },
     "execution_count": 7,
     "metadata": {},
     "output_type": "execute_result"
    }
   ],
   "source": [
    "data[0]"
   ]
  },
  {
   "cell_type": "code",
   "execution_count": 8,
   "metadata": {},
   "outputs": [],
   "source": [
    "from torch import autograd\n",
    "\n",
    "class Variable(autograd.Variable):\n",
    "    def __init__(self, data, *args, **kwargs):\n",
    "        data = data.cuda()\n",
    "        super(Variable, self).__init__(data, *args, **kwargs)"
   ]
  },
  {
   "cell_type": "code",
   "execution_count": 9,
   "metadata": {},
   "outputs": [],
   "source": [
    "import torch\n",
    "import torch.nn as nn\n",
    "\n",
    "\n",
    "class RNN(nn.Module):\n",
    "    def __init__(self, input_size, hidden_size, output_size, n_layers=1):\n",
    "        super(RNN, self).__init__()\n",
    "        self.input_size = input_size\n",
    "        self.hidden_size = hidden_size\n",
    "        self.output_size = output_size\n",
    "        self.n_layers = n_layers\n",
    "        \n",
    "        self.encoder = nn.Embedding(input_size, hidden_size)\n",
    "        self.gru = nn.GRU(hidden_size, hidden_size, n_layers)\n",
    "        self.decoder = nn.Linear(hidden_size, output_size)\n",
    "    \n",
    "    def forward(self, input, hidden):\n",
    "        input = self.encoder(input.view(1, -1))\n",
    "        output, hidden = self.gru(input.view(1, 1, -1), hidden)\n",
    "        output = self.decoder(output.view(1, -1))\n",
    "        return output, hidden\n",
    "\n",
    "    def init_hidden(self):\n",
    "        return Variable(torch.zeros(self.n_layers, 1, self.hidden_size))"
   ]
  },
  {
   "cell_type": "code",
   "execution_count": 10,
   "metadata": {},
   "outputs": [
    {
     "name": "stdout",
     "output_type": "stream",
     "text": [
      "Variable containing:\n",
      "  7\n",
      " 50\n",
      " 55\n",
      "  5\n",
      " 24\n",
      "  4\n",
      "[torch.LongTensor of size 6]\n",
      "\n"
     ]
    }
   ],
   "source": [
    "# Turn string into list of longs\n",
    "def char_tensor(string):\n",
    "    tensor = torch.zeros(len(string)).long()\n",
    "    for c in range(len(string)):\n",
    "        tensor[c] = alphabet.index(string[c])\n",
    "    return Variable(tensor)\n",
    "\n",
    "print(char_tensor('abcDEF'))"
   ]
  },
  {
   "cell_type": "code",
   "execution_count": 11,
   "metadata": {
    "collapsed": true
   },
   "outputs": [],
   "source": [
    "def random_training_set():    \n",
    "    chunk = np.random.choice(data)\n",
    "    inp = char_tensor(chunk[:-1])\n",
    "    target = char_tensor(chunk[1:])\n",
    "    return inp, target"
   ]
  },
  {
   "cell_type": "code",
   "execution_count": 12,
   "metadata": {},
   "outputs": [],
   "source": [
    "def evaluate(prime_str='A', predict_len=100, temperature=0.8):\n",
    "    hidden = decoder.init_hidden()\n",
    "    prime_input = char_tensor(prime_str)\n",
    "    predicted = prime_str\n",
    "\n",
    "    # Use priming string to \"build up\" hidden state\n",
    "    for p in range(len(prime_str) - 1):\n",
    "        _, hidden = decoder(prime_input[p], hidden)\n",
    "    inp = prime_input[-1]\n",
    "    \n",
    "    for p in range(predict_len):\n",
    "        output, hidden = decoder(inp, hidden)\n",
    "        \n",
    "        # Sample from the network as a multinomial distribution\n",
    "        output_dist = output.data.view(-1).div(temperature).exp()\n",
    "        top_i = torch.multinomial(output_dist, 1)[0]\n",
    "        \n",
    "        # Add predicted character to string and use as next input\n",
    "        predicted_char = alphabet[top_i]\n",
    "        predicted += predicted_char\n",
    "        inp = char_tensor(predicted_char)\n",
    "\n",
    "    return predicted"
   ]
  },
  {
   "cell_type": "code",
   "execution_count": 13,
   "metadata": {
    "collapsed": true
   },
   "outputs": [],
   "source": [
    "import time, math\n",
    "\n",
    "def time_since(since):\n",
    "    s = time.time() - since\n",
    "    m = math.floor(s / 60)\n",
    "    s -= m * 60\n",
    "    return '%dm %ds' % (m, s)"
   ]
  },
  {
   "cell_type": "code",
   "execution_count": 15,
   "metadata": {
    "collapsed": true
   },
   "outputs": [],
   "source": [
    "def train(inp, target):\n",
    "    hidden = decoder.init_hidden()\n",
    "    decoder.zero_grad()\n",
    "    loss = 0\n",
    "\n",
    "    for c in range(len(inp)):\n",
    "        output, hidden = decoder(inp[c], hidden)\n",
    "        loss += criterion(output, target[c])\n",
    "\n",
    "    loss.backward()\n",
    "    decoder_optimizer.step()\n",
    "\n",
    "    return loss.data[0] / len(inp)"
   ]
  },
  {
   "cell_type": "code",
   "execution_count": 16,
   "metadata": {
    "scrolled": false
   },
   "outputs": [
    {
     "name": "stdout",
     "output_type": "stream",
     "text": [
      "[1m 5s (2000 20%) 2.4544]\n",
      "Wheaxchedfmamnin<<<w<<9<<g<f<hert<f<<<<<Y<<rat<<<<r<<<<5<cicherenat<<<<<thFoty<<h<r<<<<<<<<<<<oMch<<co \n",
      "\n",
      "[2m 9s (4000 40%) 2.8866]\n",
      "Whise<h<<Rel<eDil<<l<elIw<le<<<<<OUSp<h<f<ols<<<<l<__eMard<<<un<e<<_Ya<<<<<_YOUU_YOSU<_YEo<<OY<<<<<<OU \n",
      "\n",
      "[3m 17s (6000 60%) 3.0035]\n",
      "Whillags<<<Div<A_dunt_Rir<ule<ro<r<<<<<<<<r<<<<t<on<<r<oBr<<<<<r<<<<<U<<o<<<<<i<<<<<ocu<o<<<<<<p<<EN<N \n",
      "\n",
      "[4m 25s (8000 80%) 2.7072]\n",
      "Whamt<u<or<li<<eDod<in_Sad<<ora<all<u<rle<<e<h<<<<<_<<M<<<<<<<<<<M<<<<<<<<<<<<<<<<F<BB<<<<TT<<o<F<<OT< \n",
      "\n",
      "[5m 34s (10000 100%) 3.0213]\n",
      "Wh<GOR_ROS<OR<OINORI_Skhr<ekt<<<<r<<<<a<<<<<<<<<<r<<<<<<<<<S<M<<<<<<<<ICThan<<<he<h<<<<<<<<<<<<<<<<<<< \n",
      "\n"
     ]
    }
   ],
   "source": [
    "n_epochs = 10000\n",
    "print_every = 2000\n",
    "plot_every = 100\n",
    "hidden_size = 100\n",
    "n_layers = 1\n",
    "lr = 0.005\n",
    "\n",
    "decoder = RNN(len(alphabet), hidden_size, len(alphabet), n_layers)\n",
    "decoder_optimizer = torch.optim.Adam(decoder.parameters(), lr=lr)\n",
    "criterion = nn.CrossEntropyLoss()\n",
    "\n",
    "start = time.time()\n",
    "all_losses = []\n",
    "loss_avg = 0\n",
    "\n",
    "for epoch in range(1, n_epochs + 1):\n",
    "    loss = train(*random_training_set())       \n",
    "    loss_avg += loss\n",
    "\n",
    "    if epoch % print_every == 0:\n",
    "        print('[%s (%d %d%%) %.4f]' % (time_since(start), epoch, epoch / n_epochs * 100, loss))\n",
    "        print(evaluate('Wh', 100), '\\n')\n",
    "\n",
    "    if epoch % plot_every == 0:\n",
    "        all_losses.append(loss_avg / plot_every)\n",
    "        loss_avg = 0"
   ]
  },
  {
   "cell_type": "code",
   "execution_count": 17,
   "metadata": {},
   "outputs": [
    {
     "data": {
      "text/plain": [
       "[<matplotlib.lines.Line2D at 0x7f3fa8150b70>]"
      ]
     },
     "execution_count": 17,
     "metadata": {},
     "output_type": "execute_result"
    },
    {
     "data": {
      "image/png": "[encoded data removed]",
      "text/plain": [
       "<matplotlib.figure.Figure at 0x7f3fdf635f28>"
      ]
     },
     "metadata": {},
     "output_type": "display_data"
    }
   ],
   "source": [
    "import matplotlib.pyplot as plt\n",
    "import matplotlib.ticker as ticker\n",
    "%matplotlib inline\n",
    "\n",
    "plt.figure(figsize=(20,5))\n",
    "plt.plot(all_losses)"
   ]
  },
  {
   "cell_type": "code",
   "execution_count": 29,
   "metadata": {},
   "outputs": [
    {
     "name": "stderr",
     "output_type": "stream",
     "text": [
      "/home/a/anaconda3/envs/torch/lib/python3.6/site-packages/ipykernel_launcher.py:3: DeprecationWarning: generator '<genexpr>' raised StopIteration\n",
      "  This is separate from the ipykernel package so we can avoid doing imports until\n"
     ]
    },
    {
     "name": "stdout",
     "output_type": "stream",
     "text": [
      ">puteloejou\n",
      ">puthenethemer\n",
      ">puterelly_\n",
      ">putizal\n",
      ">putaat\n",
      ">puthonymyosu_u\n",
      ">putstzo\n",
      ">puttsonein\n",
      ">putinnerrontincart\n",
      ">putherthemens\n",
      ">put_ps_zany\n",
      ">puth_otone_m\n",
      ">putetse7s\n",
      ">putliculstlechs\n",
      ">puter\n",
      ">putotimgAjt\n",
      ">puthiner\n",
      ">putoro_yed1g\n",
      ">putidybiUGyostB0bne\n",
      ">puthwote\n",
      ">puthethemer\n",
      ">puthethertern\n",
      ">putsoalthhu\n",
      ">putunsoopuppounaodi\n",
      ">puthoberty\n",
      ">putur21117577\n",
      ">putis\n",
      ">put__bu72f\n",
      ">putichly50961\n",
      ">putbhpcbimjaninicop\n",
      ">pute_hypkeiG_D\n",
      ">putalgionpyjais\n"
     ]
    }
   ],
   "source": [
    "for i in range(32):\n",
    "    pure_output = evaluate('>put', 16, temperature=np.random.rand()*2)\n",
    "    print(\"\".join(list(next(iter(())) if ch == '<' else ch for ch in pure_output)))"
   ]
  }
 ],
 "metadata": {
  "anaconda-cloud": {},
  "kernelspec": {
   "display_name": "torch",
   "language": "python",
   "name": "torch"
  },
  "language_info": {
   "codemirror_mode": {
    "name": "ipython",
    "version": 3
   },
   "file_extension": ".py",
   "mimetype": "text/x-python",
   "name": "python",
   "nbconvert_exporter": "python",
   "pygments_lexer": "ipython3",
   "version": "3.6.1"
  }
 },
 "nbformat": 4,
 "nbformat_minor": 1
}
