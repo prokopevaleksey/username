{
 "cells": [
  {
   "cell_type": "code",
   "execution_count": 1,
   "metadata": {
    "collapsed": true
   },
   "outputs": [],
   "source": [
    "import matplotlib.pyplot as plt\n",
    "import numpy as np"
   ]
  },
  {
   "cell_type": "code",
   "execution_count": 2,
   "metadata": {
    "collapsed": true
   },
   "outputs": [],
   "source": [
    "%matplotlib inline"
   ]
  },
  {
   "cell_type": "code",
   "execution_count": 3,
   "metadata": {
    "collapsed": true
   },
   "outputs": [],
   "source": [
    "with open('authors.txt','r') as f:\n",
    "    data = ['>'+line.strip()+'<' for line in f.readlines()]"
   ]
  },
  {
   "cell_type": "code",
   "execution_count": 4,
   "metadata": {},
   "outputs": [
    {
     "data": {
      "text/plain": [
       "(array([  1.00000000e+00,   0.00000000e+00,   1.14000000e+02,\n",
       "          7.77000000e+02,   1.99800000e+03,   4.40300000e+03,\n",
       "          6.01800000e+03,   7.29100000e+03,   7.59000000e+03,\n",
       "          7.69000000e+03,   7.09400000e+03,   6.67000000e+03,\n",
       "          5.62600000e+03,   4.80400000e+03,   4.09400000e+03,\n",
       "          2.88500000e+03,   2.27300000e+03,   1.85400000e+03,\n",
       "          1.60500000e+03,   1.58900000e+03]),\n",
       " array([  3.  ,   3.95,   4.9 ,   5.85,   6.8 ,   7.75,   8.7 ,   9.65,\n",
       "         10.6 ,  11.55,  12.5 ,  13.45,  14.4 ,  15.35,  16.3 ,  17.25,\n",
       "         18.2 ,  19.15,  20.1 ,  21.05,  22.  ]),\n",
       " <a list of 20 Patch objects>)"
      ]
     },
     "execution_count": 4,
     "metadata": {},
     "output_type": "execute_result"
    },
    {
     "data": {
      "image/png": "[encoded data removed]",
      "text/plain": [
       "<matplotlib.figure.Figure at 0x7f400b3fdfd0>"
      ]
     },
     "metadata": {},
     "output_type": "display_data"
    }
   ],
   "source": [
    "plt.hist([len(x) for x in data],bins = 20)"
   ]
  },
  {
   "cell_type": "code",
   "execution_count": 5,
   "metadata": {},
   "outputs": [],
   "source": [
    "alphabet = list(set(\"\".join(data)))"
   ]
  },
  {
   "cell_type": "code",
   "execution_count": 6,
   "metadata": {},
   "outputs": [
    {
     "data": {
      "text/plain": [
       "68"
      ]
     },
     "execution_count": 6,
     "metadata": {},
     "output_type": "execute_result"
    }
   ],
   "source": [
    "len(alphabet)"
   ]
  },
  {
   "cell_type": "code",
   "execution_count": 7,
   "metadata": {},
   "outputs": [
    {
     "data": {
      "text/plain": [
       "'>silvery_silver<'"
      ]
     },
     "execution_count": 7,
     "metadata": {},
     "output_type": "execute_result"
    }
   ],
   "source": [
    "data[0]"
   ]
  },
  {
   "cell_type": "code",
   "execution_count": 8,
   "metadata": {},
   "outputs": [],
   "source": [
    "from torch import autograd\n",
    "\n",
    "class Variable(autograd.Variable):\n",
    "    def __init__(self, data, *args, **kwargs):\n",
    "        data = data.cuda()\n",
    "        super(Variable, self).__init__(data, *args, **kwargs)"
   ]
  },
  {
   "cell_type": "code",
   "execution_count": 9,
   "metadata": {},
   "outputs": [],
   "source": [
    "import torch\n",
    "import torch.nn as nn\n",
    "\n",
    "\n",
    "class RNN(nn.Module):\n",
    "    def __init__(self, input_size, hidden_size, output_size, n_layers=1):\n",
    "        super(RNN, self).__init__()\n",
    "        self.input_size = input_size\n",
    "        self.hidden_size = hidden_size\n",
    "        self.output_size = output_size\n",
    "        self.n_layers = n_layers\n",
    "        \n",
    "        self.encoder = nn.Embedding(input_size, hidden_size)\n",
    "        self.gru = nn.GRU(hidden_size, hidden_size, n_layers)\n",
    "        self.decoder = nn.Linear(hidden_size, output_size)\n",
    "    \n",
    "    def forward(self, input, hidden):\n",
    "        input = self.encoder(input.view(1, -1))\n",
    "        output, hidden = self.gru(input.view(1, 1, -1), hidden)\n",
    "        output = self.decoder(output.view(1, -1))\n",
    "        return output, hidden\n",
    "\n",
    "    def init_hidden(self):\n",
    "        return Variable(torch.zeros(self.n_layers, 1, self.hidden_size))"
   ]
  },
  {
   "cell_type": "code",
   "execution_count": 10,
   "metadata": {},
   "outputs": [
    {
     "name": "stdout",
     "output_type": "stream",
     "text": [
      "Variable containing:\n",
      "  7\n",
      " 50\n",
      " 55\n",
      "  5\n",
      " 24\n",
      "  4\n",
      "[torch.LongTensor of size 6]\n",
      "\n"
     ]
    }
   ],
   "source": [
    "# Turn string into list of longs\n",
    "def char_tensor(string):\n",
    "    tensor = torch.zeros(len(string)).long()\n",
    "    for c in range(len(string)):\n",
    "        tensor[c] = alphabet.index(string[c])\n",
    "    return Variable(tensor)\n",
    "\n",
    "print(char_tensor('abcDEF'))"
   ]
  },
  {
   "cell_type": "code",
   "execution_count": 11,
   "metadata": {
    "collapsed": true
   },
   "outputs": [],
   "source": [
    "def random_training_set():    \n",
    "    chunk = np.random.choice(data)\n",
    "    inp = char_tensor(chunk[:-1])\n",
    "    target = char_tensor(chunk[1:])\n",
    "    return inp, target"
   ]
  },
  {
   "cell_type": "code",
   "execution_count": 12,
   "metadata": {},
   "outputs": [],
   "source": [
    "def evaluate(prime_str='A', predict_len=100, temperature=0.8):\n",
    "    hidden = decoder.init_hidden()\n",
    "    prime_input = char_tensor(prime_str)\n",
    "    predicted = prime_str\n",
    "\n",
    "    # Use priming string to \"build up\" hidden state\n",
    "    for p in range(len(prime_str) - 1):\n",
    "        _, hidden = decoder(prime_input[p], hidden)\n",
    "    inp = prime_input[-1]\n",
    "    \n",
    "    for p in range(predict_len):\n",
    "        output, hidden = decoder(inp, hidden)\n",
    "        \n",
    "        # Sample from the network as a multinomial distribution\n",
    "        output_dist = output.data.view(-1).div(temperature).exp()\n",
    "        top_i = torch.multinomial(output_dist, 1)[0]\n",
    "        \n",
    "        # Add predicted character to string and use as next input\n",
    "        predicted_char = alphabet[top_i]\n",
    "        predicted += predicted_char\n",
    "        inp = char_tensor(predicted_char)\n",
    "\n",
    "    return predicted"
   ]
  },
  {
   "cell_type": "code",
   "execution_count": 13,
   "metadata": {
    "collapsed": true
   },
   "outputs": [],
   "source": [
    "import time, math\n",
    "\n",
    "def time_since(since):\n",
    "    s = time.time() - since\n",
    "    m = math.floor(s / 60)\n",
    "    s -= m * 60\n",
    "    return '%dm %ds' % (m, s)"
   ]
  },
  {
   "cell_type": "code",
   "execution_count": 15,
   "metadata": {
    "collapsed": true
   },
   "outputs": [],
   "source": [
    "def train(inp, target):\n",
    "    hidden = decoder.init_hidden()\n",
    "    decoder.zero_grad()\n",
    "    loss = 0\n",
    "\n",
    "    for c in range(len(inp)):\n",
    "        output, hidden = decoder(inp[c], hidden)\n",
    "        loss += criterion(output, target[c])\n",
    "\n",
    "    loss.backward()\n",
    "    decoder_optimizer.step()\n",
    "\n",
    "    return loss.data[0] / len(inp)"
   ]
  },
  {
   "cell_type": "code",
   "execution_count": 30,
   "metadata": {
    "scrolled": false
   },
   "outputs": [
    {
     "name": "stdout",
     "output_type": "stream",
     "text": [
      "[2m 42s (5000 5%) 2.9014]\n",
      "Whick_Mure<o_B_inf<__ton<<32<<<0<<<<<<9<<<<2<<<<<<<<<<6<<666666666666<66666<<666666666666666666<666666 \n",
      "\n",
      "[5m 34s (10000 10%) 2.8723]\n",
      "WhNTDVAn42<00I23<<3<<<<<<<3<<<0<00<<<<<<<0<<<<3<<<3<<2<<<<3<<<3<<<<<3<<<3<<<<0<<3<<<3<<<<3<<<3<<<023<1 \n",
      "\n",
      "[8m 33s (15000 15%) 3.8053]\n",
      "Whendac<3<<<<<<0s<<<<<<<<<<<<<<<1<<<<<e<<<<<<<<<<<<<<<<<<3<<<<<<<<<<<<<<<<<<<<<<<<<<<<<<<<<<<<<<<<<<<< \n",
      "\n",
      "[11m 29s (20000 20%) 3.3898]\n",
      "Whekt<0_ThD<08<<<<1<<<<<<<<<<<60<<<<<<1<3<<<<<<<<<<<<<<<<<<<<<<<3<<<<<<<<<<<<<<<<<<<<<<<<<<<<<<h<<<<<< \n",
      "\n",
      "[14m 29s (25000 25%) 2.6934]\n",
      "Whel<er<67<4<<<<<<<<<<<<7<<<<<<<<<<<<<<<<<<<<<<<<<<<<<<<<<<<<<<<<<<<<<<<<<<<<<<<<<<<<<<<<<<4<<<6<<71<< \n",
      "\n",
      "[17m 27s (30000 30%) 2.3199]\n",
      "Whyaonkinis<21<<<6<<<<<<0101<<<<1<<<<10<j<01<<<<<<<<<<<<<<<<100<<<<00<<<<<<<<<<<<6<<<<<<<<<<<<<<<<<<<< \n",
      "\n",
      "[20m 29s (35000 35%) 3.2741]\n",
      "WhilyrhictommerCifryfagairSereron<20000004<928<<8<2<<<<<<thit<inana<ad<<oh<X17<<87<<z<e<<ia<9<<7<<8<<8 \n",
      "\n",
      "[23m 22s (40000 40%) 2.9123]\n",
      "Whanthonin<<3<<5<<3<<23<e<8<<8888883<888<<a<<8<88887888<<87<e<88<<e<83<<<88<838888<<3<88888<8<<<<e<<<e \n",
      "\n",
      "[26m 22s (45000 45%) 2.7474]\n",
      "WhDild<ie<ibe<822014<0772<<e<32<<3<<0422327<<2<7203232<<22<7727772<<<d<<<<122<242<e<<2<3<2<<e<82<2<3<3 \n",
      "\n",
      "[29m 19s (50000 50%) 2.6423]\n",
      "Whileckurg50000455<<9<00<<142<00005<<6<00emys<0<1<6<2<00005<<0000000<<<4<00000000000i<<4<000000002<<00 \n",
      "\n",
      "[32m 17s (55000 55%) 3.0670]\n",
      "Whar<ATheSward<KNwawtUZ<0<0KeRKKRNRNNRNGKRNKRNASRRGRKNKRKKRNKKNRNKRRKNKNNKRNRRRNNKNKRRNARRNRNKARRRARRR \n",
      "\n",
      "[35m 16s (60000 60%) 2.8800]\n",
      "Whevine_sallt<et<one<41<<<<<<<<<<<<4<<<<<<<<<<<<<ma<<<<<n<on<<3<<<<<<<<<<<<<<<<<0<<<<<<<<<u<<<<<<<<<<< \n",
      "\n",
      "[38m 13s (65000 65%) 2.7657]\n",
      "WhickerkkSn<91<<<u<1<<<<3<n<<u<<3<<<<<3<23<3<3<<33<<<<3<<<<136<4<3<<<<3<<5<45<n<36<<<<<<3<<<<4<3n<ok<t \n",
      "\n",
      "[41m 13s (70000 70%) 3.2317]\n",
      "Whusules<1<t<<11<es<6<geee<<obe<<<<5<<<<<<<<<<<<<<<<<<<<<<<<<<8<<<<<<<5<<<<<<<<<<<<<<<<<<<<<<<<<<<<<<< \n",
      "\n",
      "[44m 18s (75000 75%) 2.3306]\n",
      "Wherceanin_ot<antar_Anerd<2<3<<<6<1<996<<<93<<<<<<2<<3<6<<<<<<<3<<0<<<<<<<<<3<<<<<<3<<6<<<<<<<5<<9<<<< \n",
      "\n",
      "[47m 17s (80000 80%) 2.8501]\n",
      "Whranmely<75<34<57<7<47<175<<44<93<<3<1<0<3<3333<33<5<152<4<3<3<_555<00<<1<<3<5<o<<50<3<3<35<<6<3<3<33 \n",
      "\n",
      "[50m 25s (85000 85%) 3.2425]\n",
      "Whon1<ud123<1<9170<<1<32134<<<56<0<9<<<<59<36<<3<1<9<1<3<<0<35<<<9<9<<3<55<<<e<3<<<3<3<5<<22<37<37<461 \n",
      "\n",
      "[53m 29s (90000 90%) 3.4295]\n",
      "Whart<ufs<zzas<<<<ui<<<<<e<<e<<<a<<<<e<<<<<<<<<3<<<<<0<<<1<<<<<<<<<<<<<<<<<<15<<<<3<<<<<<<<<<<<<<0<<<< \n",
      "\n",
      "[56m 32s (95000 95%) 2.9326]\n",
      "Wheghetguzin<uthtatoncit<usy<m<33<<<<4<<077<<2<<<<<<<<<<<<<<2<5<<<5<<775<<<0<<18<<3<2<<<<9<<138969<0<2 \n",
      "\n",
      "[59m 40s (100000 100%) 3.7129]\n",
      "Wheketicrazzz<u<<62<03<<6<<<<<<9<<<<<<<<<<<<<<<<<<<<<<<<3<<<<<<4<<<<<<<<<<<<<<<<<<<5<<<<<<<3<<<<<<<<<< \n",
      "\n"
     ]
    }
   ],
   "source": [
    "n_epochs = 100000\n",
    "print_every = 5000\n",
    "plot_every = 500\n",
    "hidden_size = 100\n",
    "n_layers = 1\n",
    "lr = 0.005\n",
    "\n",
    "decoder = RNN(len(alphabet), hidden_size, len(alphabet), n_layers)\n",
    "decoder_optimizer = torch.optim.Adam(decoder.parameters(), lr=lr)\n",
    "criterion = nn.CrossEntropyLoss()\n",
    "\n",
    "start = time.time()\n",
    "all_losses = []\n",
    "loss_avg = 0\n",
    "\n",
    "for epoch in range(1, n_epochs + 1):\n",
    "    loss = train(*random_training_set())       \n",
    "    loss_avg += loss\n",
    "\n",
    "    if epoch % print_every == 0:\n",
    "        print('[%s (%d %d%%) %.4f]' % (time_since(start), epoch, epoch / n_epochs * 100, loss))\n",
    "        print(evaluate('Wh', 100), '\\n')\n",
    "\n",
    "    if epoch % plot_every == 0:\n",
    "        all_losses.append(loss_avg / plot_every)\n",
    "        loss_avg = 0"
   ]
  },
  {
   "cell_type": "code",
   "execution_count": 31,
   "metadata": {},
   "outputs": [
    {
     "data": {
      "text/plain": [
       "[<matplotlib.lines.Line2D at 0x7f3fa80f1e80>]"
      ]
     },
     "execution_count": 31,
     "metadata": {},
     "output_type": "execute_result"
    },
    {
     "data": {
      "image/png": "[encoded data removed]",
      "text/plain": [
       "<matplotlib.figure.Figure at 0x7f3fdf65a6a0>"
      ]
     },
     "metadata": {},
     "output_type": "display_data"
    }
   ],
   "source": [
    "import matplotlib.pyplot as plt\n",
    "import matplotlib.ticker as ticker\n",
    "%matplotlib inline\n",
    "\n",
    "plt.figure(figsize=(20,5))\n",
    "plt.plot(all_losses)"
   ]
  },
  {
   "cell_type": "code",
   "execution_count": 33,
   "metadata": {},
   "outputs": [
    {
     "name": "stderr",
     "output_type": "stream",
     "text": [
      "/home/a/anaconda3/envs/torch/lib/python3.6/site-packages/ipykernel_launcher.py:3: DeprecationWarning: generator '<genexpr>' raised StopIteration\n",
      "  This is separate from the ipykernel package so we can avoid doing imports until\n"
     ]
    },
    {
     "name": "stdout",
     "output_type": "stream",
     "text": [
      ">pajinerer\n",
      ">pajilncyzz\n",
      ">pajik\n",
      ">pajivk107\n",
      ">pajimt__jhy_dreambak\n",
      ">pajikelver\n",
      ">pajisb110ndu\n",
      ">pajiner\n",
      ">pajinemer\n",
      ">pajinerkrasdolint950\n",
      ">pajiatal423122\n",
      ">pajidg\n",
      ">pajikedommo3\n",
      ">pajinmp\n",
      ">pajiley_pandtes22\n",
      ">pajintamallin\n",
      ">pajisas\n",
      ">pajic_\n",
      ">pajifjjoealal\n",
      ">pajiboksux11\n",
      ">pajiam-m\n",
      ">pajiner\n",
      ">pajiner\n",
      ">pajicsleenkseir1\n",
      ">pajim2y7n_\n",
      ">pajislattajste\n",
      ">pajinanf\n",
      ">pajiner\n",
      ">paji729\n",
      ">pajity317209\n",
      ">pajinzihopbesty1315\n",
      ">pajiynnom96\n"
     ]
    }
   ],
   "source": [
    "for i in range(32):\n",
    "    pure_output = evaluate('>paji', 16, temperature=np.random.rand()*2)\n",
    "    print(\"\".join(list(next(iter(())) if ch == '<' else ch for ch in pure_output)))"
   ]
  },
  {
   "cell_type": "code",
   "execution_count": null,
   "metadata": {
    "collapsed": true
   },
   "outputs": [],
   "source": [
    "decoder."
   ]
  }
 ],
 "metadata": {
  "anaconda-cloud": {},
  "kernelspec": {
   "display_name": "torch",
   "language": "python",
   "name": "torch"
  },
  "language_info": {
   "codemirror_mode": {
    "name": "ipython",
    "version": 3
   },
   "file_extension": ".py",
   "mimetype": "text/x-python",
   "name": "python",
   "nbconvert_exporter": "python",
   "pygments_lexer": "ipython3",
   "version": "3.6.1"
  }
 },
 "nbformat": 4,
 "nbformat_minor": 1
}
